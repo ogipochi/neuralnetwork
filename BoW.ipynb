{
 "cells": [
  {
   "cell_type": "markdown",
   "metadata": {},
   "source": [
    "<h1>機械学習とは</h1>\n",
    "機械学習をものすごく簡単に説明すると,大量のデータから何かをする方法を自動で作ることと言えます.<br>"
   ]
  },
  {
   "cell_type": "markdown",
   "metadata": {},
   "source": [
    "\n",
    "<h3>かつての方法の例</h3>\n",
    "手元にwebサイトの顧客データが大量にあります.<br>\n",
    "この顧客データから,ユーザが興味があるであろう商品を自動でレコメンドしようという案がでました.<br>\n",
    "社内の人間（データサイエンティスト）たちがデータから顧客の傾向をまとめ,\n",
    "（家電カテゴリの商品を３点以上買ったら,〇〇の商品をレコメンド）のようなアルゴリズムを<br>\n",
    "人間(データサイエンティスト)が考えて組みます.<br>"
   ]
  },
  {
   "cell_type": "markdown",
   "metadata": {},
   "source": [
    "<h3>機械学習を使うと</h3>\n",
    "手元にwebサイトの顧客データが大量にあります.<br>\n",
    "機械学習のモデルを組みます.<br>\n",
    "データを入れます,<br>\n",
    "アルゴリズムが出来上がります<br>"
   ]
  },
  {
   "cell_type": "markdown",
   "metadata": {},
   "source": [
    "機械学習の主な使いどころは（あくまで僕のイメージ）<strong>人間が考えてしてきた業務を自動化</strong>です.<br>\n",
    "<ul>\n",
    "    <li>領収書の入力の自動化</li>\n",
    "    <li>運転の自動化</li>\n",
    "    <li>画像のタグ付けの自動化</li>\n",
    "    <li>音声の文章おこしの自動化</li>\n",
    "    <li>ロボットの制御の自動化</li>\n",
    "</ul>\n",
    "などなど<br>"
   ]
  },
  {
   "cell_type": "markdown",
   "metadata": {},
   "source": [
    "実際のところ機械学習の理論やモデルを作ることは簡単です.<br>\n",
    "大変なのはデータ集めとそのデータを使える形式（たいていベクトル形式です.）に直すことです."
   ]
  },
  {
   "cell_type": "markdown",
   "metadata": {},
   "source": [
    "webなどの顧客データの場合,サイトを運営していればデータは自動で集まるし,<br>\n",
    "そのデータはおそらく下のような整列されたデータでしょう.<br>\n",
    "<table>\n",
    "    <tr><th>登録日</th><th>全購入数</th><th>購入品１のID</th><th>購入品１のカテゴリID</th><th>...</th></tr>\n",
    "    <tr><td>08/21</td><td>34</td><td>4123410</td><td>13489090</td><td>...</td></tr>\n",
    "    </table>\n",
    "このような場合であれば,良いのですが大抵そうはいきません."
   ]
  },
  {
   "cell_type": "markdown",
   "metadata": {},
   "source": [
    "<h4>文章の場合</h4>\n",
    "文章の場合はデータを集めることは簡単です.（電子書籍,Webサイトのデータなど）<br>\n",
    "しかし,単語の区切りや文章の構成などをベクトル表現に直す方法をうまく考えなければなりません.<br>\n",
    "<h4>画像の場合</h4>\n",
    "画像はRGBの整列されたデータなので,ベクトル表現に直すのは簡単です.<br>\n",
    "しかし,目的（例えば車の運転,業務の作業工程）などは普通に生活していて手に入るものではないので,集めるためのアルゴリズムを<br>\n",
    "うまく考える必要があります(webのデータを取ってくる方法もありますが,だめなデータが多すぎて,たいていうまく行きません).<br>\n",
    "<h4>音楽の場合</h4>\n",
    "音楽は周波数のデジタルだし,世の中にたくさんデータがあるため,簡単にあつめられそうですが.<br>\n",
    "実際には普通の音楽のでデータ(MP3やWMVなど)は様々な楽器の音が一緒くたに入っているためあまり適しているとは言えません<br>\n",
    "学習に適しているデータ(MIDIなど)を改めて自分で作る必要があります<br>\n",
    "（生の音楽データで）"
   ]
  },
  {
   "cell_type": "markdown",
   "metadata": {},
   "source": [
    "今回は生の文章をベクトルでどのように表現するかについて、説明する."
   ]
  },
  {
   "cell_type": "markdown",
   "metadata": {},
   "source": [
    "<h1>テキストデータの処理</h1>"
   ]
  },
  {
   "cell_type": "markdown",
   "metadata": {},
   "source": [
    "文字列データには大きく分けて４つの種類がある.<br>\n",
    "<ul>\n",
    "<li>カテゴリデータ</li>\n",
    "<li>カテゴリに分類できる自由な文字列</li>\n",
    "<li>構造化された文字列</li>\n",
    "<li>テキストデータ</li>\n",
    "</ul>"
   ]
  },
  {
   "cell_type": "markdown",
   "metadata": {},
   "source": [
    "<h4>テキストデータの例</h4>\n",
    "アンケートの入力で「犬についてどう思うか」、ドロップダウンメニューで[好き,嫌い]から選んでもらったデータ<br>\n",
    "データは決まった値しか取らず整列されている<br>\n",
    "<h4>カテゴリに分類できる自由な文字列の例</h4>\n",
    "アンケートの入力で「犬は好きですか,嫌いですか?」という質問を自由記述してもらったデータ<br>\n",
    "「好き」,「すごく好き」「嫌い」のようにカテゴリで分けやすいデータもあれば,「昔近所にいた犬に噛まれた.一生許さない.」のように自動でカテゴリに分類しづらいデータもある.<br>\n",
    "そのため「好き」「嫌い」「その他」のように分類するのが一般的<br>\n",
    "<h4>構造化された文字列の例</h4>\n",
    "住所,人名,日付など\n",
    "<h4>テキストデータの例</h4>\n",
    "ツイート,記事の文章,チャットログ,本のシナリオなど、最も生のデータ.<br>\n",
    "参考書が海外のものしかないため,生のデータがそのまま使われるが,日本語の場合は生のデータをそのまま使うことはできない.<br>\n",
    "英語の場合は<br>\n",
    "I like dog.Because dog is cute.<br>\n",
    "のように,単語の区切りは空欄で,文の区切りは.(ドット)で区別できる.しかし日本語の場合<br>\n",
    "私は犬が好きです。犬はかわいいから。<br>\n",
    "のように単語の区別がかんたんに行えない.<br>\n",
    "そのため日本語の場合は形態素解析(文章を意味ごとに分ける)が必要になる<br>"
   ]
  },
  {
   "cell_type": "markdown",
   "metadata": {},
   "source": [
    "<h3>BoWによるテキスト表現</h3>"
   ]
  },
  {
   "cell_type": "markdown",
   "metadata": {},
   "source": [
    "BoW(Bag of Words)とはテキストデータを特徴量で表現する最も単純な方法のひとつである.<br>\n",
    "テキストに現れたコーパスの単語をただ数えていくだけの方法である.<br>\n",
    "単語の順番や章立て,フォーマットなどテキストの持つ構造がほとんど失われる.<br>\n",
    "そのためBag Of Words(言葉の袋)とよばれる.<br>"
   ]
  },
  {
   "cell_type": "markdown",
   "metadata": {},
   "source": [
    "例:<br>\n",
    "コーパス：[犬,猫,魚,好き,嫌い]<br>\n",
    "テキスト：私は<strong>犬</strong>が<strong>好き</strong>である.<br>\n",
    "BoW表現：[1,0,0,1,0]<br>"
   ]
  },
  {
   "cell_type": "markdown",
   "metadata": {},
   "source": [
    "<h3>実際にやってみる</h3>\n",
    "今回はSMS Spanm collectionを使い,メールがスパムか否かを判別する."
   ]
  },
  {
   "cell_type": "markdown",
   "metadata": {},
   "source": [
    "<h3>環境構築</h3>\n",
    "<a href=\"https://www.tensorflow.org/install/install_linux#InstallingVirtualenv\">tensorflow</a>のインストール\n",
    "<p> sudo apt-get install python3-pip python3-dev python-virtualenv</p>\n",
    "<p> pyvenv myvenv(自由な環境名)</p>\n",
    "<p>仮想環境のactivate</p>\n",
    "<p> source myvenv/bin/activate</p> \n",
    "これでpythonの仮想環境ができました.仮想環境の中でのみpythonコマンドでpython3を起動,pipコマンドでpip3が起動できます.\n",
    "<p>(myvenv) pip install --upgrade tensorflow </p>\n",
    "<p>(myvenv) pip install --upgrade https://storage.googleapis.com/tensorflow/linux/cpu/tensorflow-1.3.0-cp35-cp35m-linux_x86_64.whl</p>\n",
    "(僕の環境はpython3.5.3だったので上のコマンドでできますが,違うバージョンの場合は<br>\n",
    "https://www.tensorflow.org/install/install_linux#the_url_of_the_tensorflow_python_package\n",
    "からupgrade以下のパスの正しいものを選択して<br>\n",
    "ください.pythonのバージョンはpython -Vで確認できます}.)<br>\n",
    "jupyter notebookで実行すると理解しやすいです.<br>\n",
    "pip install jupyter[notebook]<br>\n",
    "jupyter notebookコマンドで起動"
   ]
  },
  {
   "cell_type": "markdown",
   "metadata": {},
   "source": [
    "その他必要ライブラリのインストール<br>\n",
    "pip install requests<br>\n",
    "pip install matplotlib<br>\n",
    "pip install numpy<br>"
   ]
  },
  {
   "cell_type": "code",
   "execution_count": 1,
   "metadata": {},
   "outputs": [],
   "source": [
    "import tensorflow as tf\n",
    "import matplotlib.pyplot as plt\n",
    "import os\n",
    "import numpy as np\n",
    "import csv\n",
    "import requests\n",
    "import io\n",
    "import string\n",
    "from zipfile import ZipFile\n",
    "from tensorflow.contrib import learn"
   ]
  },
  {
   "cell_type": "markdown",
   "metadata": {},
   "source": [
    "セッションを始めに定義しておく.<br>\n",
    "このセッションが最終的に計算グラフを追加していくインスタンスになる<br>"
   ]
  },
  {
   "cell_type": "code",
   "execution_count": 2,
   "metadata": {},
   "outputs": [],
   "source": [
    "sess = tf.Session()"
   ]
  },
  {
   "cell_type": "markdown",
   "metadata": {},
   "source": [
    "<h3>学習に使用するデータのパスを定義</h3>"
   ]
  },
  {
   "cell_type": "code",
   "execution_count": 3,
   "metadata": {},
   "outputs": [
    {
     "name": "stdout",
     "output_type": "stream",
     "text": [
      "学習データのパス:temp/temp_spam_data.csv\n"
     ]
    }
   ],
   "source": [
    "save_file_name = os.path.join('temp','temp_spam_data.csv')\n",
    "print('学習データのパス:{}'.format(save_file_name))"
   ]
  },
  {
   "cell_type": "markdown",
   "metadata": {},
   "source": [
    "<h3>学習データが存在しなければダウンロードする</h3>"
   ]
  },
  {
   "cell_type": "code",
   "execution_count": 4,
   "metadata": {},
   "outputs": [
    {
     "name": "stdout",
     "output_type": "stream",
     "text": [
      "temp/temp_spam_data.csvからデータを読み込み,text_dataにlistで追加します.\n"
     ]
    }
   ],
   "source": [
    "if not os.path.exists('temp'):\n",
    "    print('\"temp\"ディレクトリが存在しません...作成します')\n",
    "    os.mkdir('temp')\n",
    "\n",
    "if os.path.isfile(save_file_name):\n",
    "    print('{}からデータを読み込み,text_dataにlistで追加します.'.format(save_file_name))\n",
    "    text_data=[]\n",
    "    with open(save_file_name,'r') as temp_output_file:\n",
    "        reader = csv.reader(temp_output_file)\n",
    "        for row in reader:\n",
    "            text_data.append(row)\n",
    "else:\n",
    "    zip_url = 'http://archive.ics.uci.edu/ml/machine-learning-databases/00228/smsspamcollection.zip'\n",
    "    print('{}が存在しません.{}から学習データをダウンロードします.'.format(save_file_name,zip_url))\n",
    "    r = requests.get(zip_url)\n",
    "    print('レスポンスが200なら成功:{}'.format(r))\n",
    "    print('ダウンロードしたzipの１文字目から30文字目')\n",
    "    print(r.content[0:30])\n",
    "    print('zipはbyteで保存されている')\n",
    "    print('')\n",
    "    z = ZipFile(io.BytesIO(r.content))\n",
    "    file = z.read('SMSSpamCollection')\n",
    "    print('zipファイルを位置文字ずつ読み込みZipFileのread関数で{}読める状態になる'.format(type(file)))\n",
    "    print('')\n",
    "    print('0文字目から30文字目は以下の用になっている.')\n",
    "    print(file[0:30])\n",
    "    print('スパム判定\\\\t文章文章文章....\\\\n')\n",
    "    print('というふうに保存されているためこれをひとつずつのスパム判別と文章に分け,text_data変数に格納.')\n",
    "    text_data = file.decode()\n",
    "    text_data = text_data.encode('ascii',errors='ignore')\n",
    "    text_data = text_data.decode().split('\\n')\n",
    "    text_data = [x.split('\\t') for x in text_data if len(x)>=1]\n",
    "    print('text_data変数の中身をファイルとして保存.')\n",
    "    with open(save_file_name,'w') as temp_output_file:\n",
    "        writer = csv.writer (temp_output_file)\n",
    "        writer.writerows(text_data)\n",
    "\n"
   ]
  },
  {
   "cell_type": "code",
   "execution_count": 5,
   "metadata": {},
   "outputs": [],
   "source": [
    "# 学習データとそのラベル（スパムか否か）を変数に格納\n",
    "texts = [x[1] for x in text_data]\n",
    "target = [x[0] for x in text_data]"
   ]
  },
  {
   "cell_type": "markdown",
   "metadata": {},
   "source": [
    "学習データが文字列だと扱いづらいため,<br>\n",
    "1:spam<br>\n",
    "0:ham<br>\n",
    "と変換する"
   ]
  },
  {
   "cell_type": "code",
   "execution_count": 6,
   "metadata": {},
   "outputs": [],
   "source": [
    "\n",
    "target = [1 if x=='spam' else 0 for x in target]"
   ]
  },
  {
   "cell_type": "markdown",
   "metadata": {},
   "source": [
    "<h3>テキストの大文字と小文字の区別をなくす.</h3>"
   ]
  },
  {
   "cell_type": "code",
   "execution_count": 7,
   "metadata": {},
   "outputs": [
    {
     "name": "stdout",
     "output_type": "stream",
     "text": [
      "句読点などの記号の削除は!\"#$%&'()*+,-./:;<=>?@[\\]^_`{|}~と整合をとって判断する\n"
     ]
    }
   ],
   "source": [
    "print('句読点などの記号の削除は{}と整合をとって判断する'.format(string.punctuation))\n",
    "texts = [\n",
    "    ''.join(c for c in x if c not in string.punctuation) for x in texts\n",
    "]"
   ]
  },
  {
   "cell_type": "markdown",
   "metadata": {},
   "source": [
    "<h3>次に数字を削除</h3>"
   ]
  },
  {
   "cell_type": "code",
   "execution_count": 8,
   "metadata": {},
   "outputs": [],
   "source": [
    "tests=[\n",
    "    ''.join(c for c in x if c not in '0123456789') for x in texts\n",
    "]"
   ]
  },
  {
   "cell_type": "markdown",
   "metadata": {},
   "source": [
    "<h3>次に文の最大の長さを決定する(とりあえず０〜５０で)<br>\n",
    "英語の場合は空白で区切ることで単語数を判断できるが日本語の場合はこの処理の前に<br>\n",
    "形態素解析が必要になると思われる<br></h3>\n"
   ]
  },
  {
   "cell_type": "code",
   "execution_count": 9,
   "metadata": {},
   "outputs": [
    {
     "data": {
      "image/png": "[encoded data removed]",
      "text/plain": [
       "<matplotlib.figure.Figure at 0x7f04dff3d470>"
      ]
     },
     "metadata": {},
     "output_type": "display_data"
    }
   ],
   "source": [
    "text_lengths = [len(x.split()) for x in texts]\n",
    "texts_lengths = [x for x in text_lengths if x < 50]\n",
    "plt.hist(text_lengths,bins=25)\n",
    "plt.title('ヒストグラム')\n",
    "plt.show()"
   ]
  },
  {
   "cell_type": "markdown",
   "metadata": {},
   "source": [
    "<h3>ヒストグラムから一つの文章ごとの単語のカットオフ値（最大値）を25にする<br>\n",
    "またデータベース全体で3回以上出現しない単語は,打ち間違いやそもそも判別に使うことに適していない単語であると推測できるため,<br>\n",
    "出現回数３回以上を条件とする.この処理をtensorflowのVocablaryProcessorを用いて行う</h3>"
   ]
  },
  {
   "cell_type": "code",
   "execution_count": 10,
   "metadata": {},
   "outputs": [],
   "source": [
    "sentence_size = 25\n",
    "min_word=3"
   ]
  },
  {
   "cell_type": "code",
   "execution_count": 11,
   "metadata": {},
   "outputs": [
    {
     "name": "stdout",
     "output_type": "stream",
     "text": [
      "語彙数は2514\n"
     ]
    }
   ],
   "source": [
    "vocab_processor=learn.preprocessing.VocabularyProcessor(max_document_length=sentence_size,min_frequency=min_word)\n",
    "vocab_processor.fit_transform(tests)\n",
    "embedding_size = len(vocab_processor.vocabulary_)\n",
    "print('語彙数は{}'.format(embedding_size))"
   ]
  },
  {
   "cell_type": "markdown",
   "metadata": {},
   "source": [
    "<h3>次にデータを訓練データとテストデータに分ける</h3>\n",
    "train_indices,text_indicesでデータセットのどこから抜き出すかを定義しする."
   ]
  },
  {
   "cell_type": "code",
   "execution_count": 12,
   "metadata": {},
   "outputs": [
    {
     "name": "stdout",
     "output_type": "stream",
     "text": [
      "train_indicesの0から10番目\n",
      "[1459 4015 3061  738 2281 2706 1288 4171  876 2364]\n",
      "test_indicesの0から10番目\n",
      "[4096 2051    5 2054 4101 4102 4108   13 2063   16]\n"
     ]
    }
   ],
   "source": [
    "train_indices = np.random.choice(len(texts),round(len(texts)*0.8),replace=False)\n",
    "test_indices = np.array(list(set(range(len(texts))) - set(train_indices)))\n",
    "print('train_indicesの0から10番目')\n",
    "print(train_indices[0:10])\n",
    "print('test_indicesの0から10番目')\n",
    "print(test_indices[0:10])\n"
   ]
  },
  {
   "cell_type": "markdown",
   "metadata": {},
   "source": [
    "<h3>定義したindicesからそれぞれtextとラベルを取得する</h3>"
   ]
  },
  {
   "cell_type": "code",
   "execution_count": 13,
   "metadata": {},
   "outputs": [],
   "source": [
    "texts_train = [x for ix , x in enumerate(texts) if ix in train_indices]\n",
    "texts_test = [x for ix , x in enumerate(texts) if ix in test_indices]\n",
    "target_train = [x for ix ,x in enumerate(target) if ix in train_indices]\n",
    "target_test =[x for ix,x in enumerate(target) if ix in test_indices]"
   ]
  },
  {
   "cell_type": "code",
   "execution_count": 14,
   "metadata": {},
   "outputs": [
    {
     "name": "stdout",
     "output_type": "stream",
     "text": [
      "[1, 0, 0, 0, 0]\n",
      "['FreeMsg Hey there darling its been 3 weeks now and no word back Id like some fun you up for it still Tb ok XxX std chgs to send 150 to rcv', 'Ive been searching for the right words to thank you for this breather I promise i wont take your help for granted and will fulfil my promise You have been wonderful and a blessing at all times', 'Oh kim watching here', 'Aft i finish my lunch then i go str down lor Ard 3 smth lor U finish ur lunch already', 'Ffffffffff Alright no way I can meet up with you sooner']\n"
     ]
    }
   ],
   "source": [
    "print(target_test[0:5])\n",
    "print(texts_test[0:5])"
   ]
  },
  {
   "cell_type": "markdown",
   "metadata": {},
   "source": [
    "<h3>ある文に出現する単語をベクトルで表現するための行列を定義する.</h3>"
   ]
  },
  {
   "cell_type": "code",
   "execution_count": 15,
   "metadata": {},
   "outputs": [],
   "source": [
    "identity_mat = tf.diag(tf.ones(shape=[embedding_size]))"
   ]
  },
  {
   "cell_type": "markdown",
   "metadata": {},
   "source": [
    "<h2>モデルの定義</h2>"
   ]
  },
  {
   "cell_type": "markdown",
   "metadata": {},
   "source": [
    "tf.Variable(変数)がモデルのグラフとなる初期値をランダムに与える.<br>\n",
    "入力データ(x_data)と正解データ(y_target)はplaceholder(定数)で定義する<br>\n",
    "入力データや正解データなどははじめに入れ物だけ定義して,実行時に値を順番に入れていく"
   ]
  },
  {
   "cell_type": "code",
   "execution_count": 16,
   "metadata": {},
   "outputs": [],
   "source": [
    "A = tf.Variable(tf.random_normal(shape=[embedding_size,1]))\n",
    "b = tf.Variable(tf.random_normal(shape=[1,1]))\n",
    "x_data = tf.placeholder(shape=[sentence_size],dtype=tf.int32)\n",
    "y_target=tf.placeholder(shape=[1,1],dtype=tf.float32)"
   ]
  },
  {
   "cell_type": "code",
   "execution_count": 17,
   "metadata": {},
   "outputs": [
    {
     "name": "stdout",
     "output_type": "stream",
     "text": [
      "<tf.Variable 'Variable:0' shape=(2514, 1) dtype=float32_ref>\n",
      "<tf.Variable 'Variable_1:0' shape=(1, 1) dtype=float32_ref>\n",
      "Tensor(\"Placeholder:0\", shape=(25,), dtype=int32)\n",
      "Tensor(\"Placeholder_1:0\", shape=(1, 1), dtype=float32)\n"
     ]
    }
   ],
   "source": [
    "print(A)\n",
    "print(b)\n",
    "print(x_data)\n",
    "print(y_target)"
   ]
  },
  {
   "cell_type": "markdown",
   "metadata": {},
   "source": [
    "<h3>入力の与えられるAはembededing_sizeと同じサイズとなっている.<br>\n",
    "ある文章に存在する単語の出現状況がベクトルとなり入力されてくるということである<br>\n",
    "</h3>"
   ]
  },
  {
   "cell_type": "code",
   "execution_count": 18,
   "metadata": {},
   "outputs": [],
   "source": [
    "x_embed = tf.nn.embedding_lookup(params=identity_mat,ids=x_data)\n",
    "x_col_sums = tf.reduce_sum(input_tensor=x_embed,axis=0)"
   ]
  },
  {
   "cell_type": "code",
   "execution_count": 19,
   "metadata": {},
   "outputs": [
    {
     "name": "stdout",
     "output_type": "stream",
     "text": [
      "Tensor(\"embedding_lookup:0\", shape=(25, 2514), dtype=float32)\n",
      "Tensor(\"Sum:0\", shape=(2514,), dtype=float32)\n"
     ]
    }
   ],
   "source": [
    "print(x_embed)\n",
    "print(x_col_sums)"
   ]
  },
  {
   "cell_type": "markdown",
   "metadata": {},
   "source": [
    "<h3>x_col_sums_2D : 文章中の単語を一つの行列であらわしたもの<br>\n",
    "model_output  : モデルの出力をあらわしたもの.<br></h3>    "
   ]
  },
  {
   "cell_type": "code",
   "execution_count": 20,
   "metadata": {},
   "outputs": [
    {
     "name": "stdout",
     "output_type": "stream",
     "text": [
      "Tensor(\"ExpandDims:0\", shape=(1, 2514), dtype=float32)\n",
      "Tensor(\"Add:0\", shape=(1, 1), dtype=float32)\n"
     ]
    }
   ],
   "source": [
    "x_col_sums_2D = tf.expand_dims(x_col_sums, 0)\n",
    "model_output = tf.add(tf.matmul(x_col_sums_2D, A), b)\n",
    "print(x_col_sums_2D)\n",
    "print(model_output)"
   ]
  },
  {
   "cell_type": "markdown",
   "metadata": {},
   "source": [
    "<h3>loss:出力した値がラベルとどのくらい違うかを表す.学習時に使われる.\n",
    "prediction:実際の出力,spamかhamかを1か0で出力する.</h3>"
   ]
  },
  {
   "cell_type": "code",
   "execution_count": 21,
   "metadata": {},
   "outputs": [],
   "source": [
    "loss = tf.reduce_mean(tf.nn.sigmoid_cross_entropy_with_logits(logits=model_output, labels=y_target))\n",
    "prediction = tf.sigmoid(model_output)"
   ]
  },
  {
   "cell_type": "markdown",
   "metadata": {},
   "source": [
    "optimaizer（）とtrain_step(訓練回数),initializer(初期化関数)<br>\n",
    "パラメータ"
   ]
  },
  {
   "cell_type": "code",
   "execution_count": 22,
   "metadata": {},
   "outputs": [],
   "source": [
    "my_opt = tf.train.GradientDescentOptimizer(0.001)\n",
    "train_step = my_opt.minimize(loss)\n",
    "\n",
    "init = tf.global_variables_initializer()"
   ]
  },
  {
   "cell_type": "markdown",
   "metadata": {},
   "source": [
    "<h3>sessの初期化</h3>"
   ]
  },
  {
   "cell_type": "code",
   "execution_count": 23,
   "metadata": {},
   "outputs": [],
   "source": [
    "sess.run(init)"
   ]
  },
  {
   "cell_type": "markdown",
   "metadata": {},
   "source": [
    "<h3>学習</h3>"
   ]
  },
  {
   "cell_type": "code",
   "execution_count": 24,
   "metadata": {},
   "outputs": [
    {
     "name": "stdout",
     "output_type": "stream",
     "text": [
      "Starting Training Over 4459 Sentences.\n",
      "Training Observation #10: Loss = 5.9777\n",
      "Training Observation #20: Loss = 12.5425\n",
      "Training Observation #30: Loss = 0.00100121\n",
      "Training Observation #40: Loss = 4.35148\n",
      "Training Observation #50: Loss = 8.97835\n",
      "Training Observation #60: Loss = 2.00104\n",
      "Training Observation #70: Loss = 0.312952\n",
      "Training Observation #80: Loss = 0.0121951\n",
      "Training Observation #90: Loss = 0.144773\n",
      "Training Observation #100: Loss = 1.10507\n",
      "Training Observation #110: Loss = 0.00137555\n",
      "Training Observation #120: Loss = 0.00709389\n",
      "Training Observation #130: Loss = 0.260443\n",
      "Training Observation #140: Loss = 0.900865\n",
      "Training Observation #150: Loss = 0.108904\n",
      "Training Observation #160: Loss = 0.00222816\n",
      "Training Observation #170: Loss = 0.0206201\n",
      "Training Observation #180: Loss = 1.95726\n",
      "Training Observation #190: Loss = 1.39074\n",
      "Training Observation #200: Loss = 0.000350692\n",
      "Training Observation #210: Loss = 0.702271\n",
      "Training Observation #220: Loss = 0.00143439\n",
      "Training Observation #230: Loss = 0.0305381\n",
      "Training Observation #240: Loss = 0.158696\n",
      "Training Observation #250: Loss = 2.0534\n",
      "Training Observation #260: Loss = 0.0947468\n",
      "Training Observation #270: Loss = 0.0075046\n",
      "Training Observation #280: Loss = 2.13723\n",
      "Training Observation #290: Loss = 0.00154807\n",
      "Training Observation #300: Loss = 1.78551\n",
      "Training Observation #310: Loss = 0.00360192\n",
      "Training Observation #320: Loss = 11.1947\n",
      "Training Observation #330: Loss = 0.00110551\n",
      "Training Observation #340: Loss = 0.00201573\n",
      "Training Observation #350: Loss = 0.0115462\n",
      "Training Observation #360: Loss = 0.000731981\n",
      "Training Observation #370: Loss = 0.9287\n",
      "Training Observation #380: Loss = 2.17596\n",
      "Training Observation #390: Loss = 0.290721\n",
      "Training Observation #400: Loss = 0.000263487\n",
      "Training Observation #410: Loss = 4.30338e-05\n",
      "Training Observation #420: Loss = 0.191901\n",
      "Training Observation #430: Loss = 2.6406\n",
      "Training Observation #440: Loss = 1.80258\n",
      "Training Observation #450: Loss = 1.09822\n",
      "Training Observation #460: Loss = 2.8033\n",
      "Training Observation #470: Loss = 0.000501574\n",
      "Training Observation #480: Loss = 8.69043\n",
      "Training Observation #490: Loss = 0.209385\n",
      "Training Observation #500: Loss = 0.00211781\n",
      "Training Observation #510: Loss = 0.00716248\n",
      "Training Observation #520: Loss = 2.16\n",
      "Training Observation #530: Loss = 0.124191\n",
      "Training Observation #540: Loss = 4.75542\n",
      "Training Observation #550: Loss = 0.467524\n",
      "Training Observation #560: Loss = 0.325971\n",
      "Training Observation #570: Loss = 2.74325\n",
      "Training Observation #580: Loss = 0.00171255\n",
      "Training Observation #590: Loss = 0.478715\n",
      "Training Observation #600: Loss = 7.29879e-06\n",
      "Training Observation #610: Loss = 0.0358838\n",
      "Training Observation #620: Loss = 7.83292\n",
      "Training Observation #630: Loss = 0.00065496\n",
      "Training Observation #640: Loss = 0.00764446\n",
      "Training Observation #650: Loss = 0.00280534\n",
      "Training Observation #660: Loss = 0.126974\n",
      "Training Observation #670: Loss = 0.0768394\n",
      "Training Observation #680: Loss = 0.00320153\n",
      "Training Observation #690: Loss = 0.0219722\n",
      "Training Observation #700: Loss = 2.75488\n",
      "Training Observation #710: Loss = 1.93212\n",
      "Training Observation #720: Loss = 0.0705658\n",
      "Training Observation #730: Loss = 0.00211866\n",
      "Training Observation #740: Loss = 0.00839924\n",
      "Training Observation #750: Loss = 0.00442955\n",
      "Training Observation #760: Loss = 0.0810956\n",
      "Training Observation #770: Loss = 0.000843284\n",
      "Training Observation #780: Loss = 0.0118188\n",
      "Training Observation #790: Loss = 0.0364657\n",
      "Training Observation #800: Loss = 7.15778e-05\n",
      "Training Observation #810: Loss = 0.0130655\n",
      "Training Observation #820: Loss = 1.76256\n",
      "Training Observation #830: Loss = 2.32441\n",
      "Training Observation #840: Loss = 0.764914\n",
      "Training Observation #850: Loss = 0.000739855\n",
      "Training Observation #860: Loss = 0.00499074\n",
      "Training Observation #870: Loss = 0.109296\n",
      "Training Observation #880: Loss = 2.90196\n",
      "Training Observation #890: Loss = 0.0168913\n",
      "Training Observation #900: Loss = 0.229002\n",
      "Training Observation #910: Loss = 0.00016465\n",
      "Training Observation #920: Loss = 7.73781e-06\n",
      "Training Observation #930: Loss = 0.000433746\n",
      "Training Observation #940: Loss = 8.14421e-05\n",
      "Training Observation #950: Loss = 0.00713555\n",
      "Training Observation #960: Loss = 0.0176118\n",
      "Training Observation #970: Loss = 0.0925628\n",
      "Training Observation #980: Loss = 0.0094614\n",
      "Training Observation #990: Loss = 4.43885e-07\n",
      "Training Observation #1000: Loss = 0.372119\n",
      "Training Observation #1010: Loss = 4.42838\n",
      "Training Observation #1020: Loss = 0.00116591\n",
      "Training Observation #1030: Loss = 3.65726e-06\n",
      "Training Observation #1040: Loss = 0.00694645\n",
      "Training Observation #1050: Loss = 2.20811e-05\n",
      "Training Observation #1060: Loss = 0.0141588\n",
      "Training Observation #1070: Loss = 0.0330841\n",
      "Training Observation #1080: Loss = 0.000438221\n",
      "Training Observation #1090: Loss = 0.0774716\n",
      "Training Observation #1100: Loss = 0.0946992\n",
      "Training Observation #1110: Loss = 5.42693\n",
      "Training Observation #1120: Loss = 1.74209\n",
      "Training Observation #1130: Loss = 0.000518022\n",
      "Training Observation #1140: Loss = 0.0815608\n",
      "Training Observation #1150: Loss = 0.0012915\n",
      "Training Observation #1160: Loss = 1.77839\n",
      "Training Observation #1170: Loss = 0.00548983\n",
      "Training Observation #1180: Loss = 0.0784718\n",
      "Training Observation #1190: Loss = 0.0159115\n",
      "Training Observation #1200: Loss = 0.000294585\n",
      "Training Observation #1210: Loss = 0.991194\n",
      "Training Observation #1220: Loss = 0.00218583\n",
      "Training Observation #1230: Loss = 0.000240636\n",
      "Training Observation #1240: Loss = 0.00108623\n",
      "Training Observation #1250: Loss = 0.00189957\n",
      "Training Observation #1260: Loss = 0.000685556\n",
      "Training Observation #1270: Loss = 0.00107244\n",
      "Training Observation #1280: Loss = 0.000247126\n",
      "Training Observation #1290: Loss = 0.288654\n",
      "Training Observation #1300: Loss = 0.0405153\n",
      "Training Observation #1310: Loss = 3.50395\n",
      "Training Observation #1320: Loss = 3.05137\n",
      "Training Observation #1330: Loss = 0.0028219\n",
      "Training Observation #1340: Loss = 0.168956\n",
      "Training Observation #1350: Loss = 0.0597198\n",
      "Training Observation #1360: Loss = 3.0201\n",
      "Training Observation #1370: Loss = 0.198428\n",
      "Training Observation #1380: Loss = 0.000938315\n",
      "Training Observation #1390: Loss = 0.000387845\n",
      "Training Observation #1400: Loss = 0.0431245\n",
      "Training Observation #1410: Loss = 1.34258e-05\n",
      "Training Observation #1420: Loss = 0.000842517\n",
      "Training Observation #1430: Loss = 0.00713893\n",
      "Training Observation #1440: Loss = 0.00265593\n",
      "Training Observation #1450: Loss = 0.0374754\n",
      "Training Observation #1460: Loss = 4.34615\n",
      "Training Observation #1470: Loss = 0.00585659\n",
      "Training Observation #1480: Loss = 0.00872908\n",
      "Training Observation #1490: Loss = 2.4388\n",
      "Training Observation #1500: Loss = 0.00150588\n",
      "Training Observation #1510: Loss = 1.12435\n",
      "Training Observation #1520: Loss = 0.000662503\n",
      "Training Observation #1530: Loss = 0.000140582\n",
      "Training Observation #1540: Loss = 0.0328778\n",
      "Training Observation #1550: Loss = 0.000139462\n",
      "Training Observation #1560: Loss = 0.000163556\n",
      "Training Observation #1570: Loss = 0.000305932\n",
      "Training Observation #1580: Loss = 0.000429682\n",
      "Training Observation #1590: Loss = 0.141101\n",
      "Training Observation #1600: Loss = 0.0975789\n",
      "Training Observation #1610: Loss = 0.0040774\n",
      "Training Observation #1620: Loss = 0.000370024\n",
      "Training Observation #1630: Loss = 0.000151716\n",
      "Training Observation #1640: Loss = 0.000141935\n",
      "Training Observation #1650: Loss = 0.0606065\n",
      "Training Observation #1660: Loss = 0.00121873\n",
      "Training Observation #1670: Loss = 0.00705417\n",
      "Training Observation #1680: Loss = 0.132311\n",
      "Training Observation #1690: Loss = 0.00470823\n",
      "Training Observation #1700: Loss = 0.000215912\n",
      "Training Observation #1710: Loss = 0.000139693\n",
      "Training Observation #1720: Loss = 0.0221915\n",
      "Training Observation #1730: Loss = 0.00309031\n",
      "Training Observation #1740: Loss = 0.00400295\n",
      "Training Observation #1750: Loss = 0.000209703\n",
      "Training Observation #1760: Loss = 0.531069\n",
      "Training Observation #1770: Loss = 0.00598177\n",
      "Training Observation #1780: Loss = 0.831612\n",
      "Training Observation #1790: Loss = 0.0288654\n",
      "Training Observation #1800: Loss = 0.000129043\n",
      "Training Observation #1810: Loss = 0.247569\n",
      "Training Observation #1820: Loss = 0.000896374\n",
      "Training Observation #1830: Loss = 0.00601606\n",
      "Training Observation #1840: Loss = 0.295488\n"
     ]
    },
    {
     "name": "stdout",
     "output_type": "stream",
     "text": [
      "Training Observation #1850: Loss = 0.00287776\n",
      "Training Observation #1860: Loss = 3.7586\n",
      "Training Observation #1870: Loss = 0.000165167\n",
      "Training Observation #1880: Loss = 4.29964\n",
      "Training Observation #1890: Loss = 0.0248004\n",
      "Training Observation #1900: Loss = 1.45243\n",
      "Training Observation #1910: Loss = 0.0101664\n",
      "Training Observation #1920: Loss = 0.00480969\n",
      "Training Observation #1930: Loss = 0.0138292\n",
      "Training Observation #1940: Loss = 0.000156809\n",
      "Training Observation #1950: Loss = 0.0059588\n",
      "Training Observation #1960: Loss = 0.00749456\n",
      "Training Observation #1970: Loss = 1.69679e-06\n",
      "Training Observation #1980: Loss = 0.000382882\n",
      "Training Observation #1990: Loss = 0.312279\n",
      "Training Observation #2000: Loss = 0.0052276\n",
      "Training Observation #2010: Loss = 0.00134426\n",
      "Training Observation #2020: Loss = 0.0197222\n",
      "Training Observation #2030: Loss = 7.59182e-05\n",
      "Training Observation #2040: Loss = 0.00914761\n",
      "Training Observation #2050: Loss = 0.000569505\n",
      "Training Observation #2060: Loss = 0.0167637\n",
      "Training Observation #2070: Loss = 2.64135e-05\n",
      "Training Observation #2080: Loss = 0.000976367\n",
      "Training Observation #2090: Loss = 0.00024374\n",
      "Training Observation #2100: Loss = 0.0294391\n",
      "Training Observation #2110: Loss = 9.39058e-05\n",
      "Training Observation #2120: Loss = 0.000536459\n",
      "Training Observation #2130: Loss = 8.4543\n",
      "Training Observation #2140: Loss = 1.05599e-05\n",
      "Training Observation #2150: Loss = 0.000555532\n",
      "Training Observation #2160: Loss = 0.00268183\n",
      "Training Observation #2170: Loss = 0.00111097\n",
      "Training Observation #2180: Loss = 0.0249768\n",
      "Training Observation #2190: Loss = 3.71294\n",
      "Training Observation #2200: Loss = 2.06052e-05\n",
      "Training Observation #2210: Loss = 9.3561e-06\n",
      "Training Observation #2220: Loss = 0.000262242\n",
      "Training Observation #2230: Loss = 0.600169\n",
      "Training Observation #2240: Loss = 5.19171\n",
      "Training Observation #2250: Loss = 0.592937\n",
      "Training Observation #2260: Loss = 0.200576\n",
      "Training Observation #2270: Loss = 0.0274359\n",
      "Training Observation #2280: Loss = 0.0187267\n",
      "Training Observation #2290: Loss = 0.000498209\n",
      "Training Observation #2300: Loss = 0.0933174\n",
      "Training Observation #2310: Loss = 0.000170206\n",
      "Training Observation #2320: Loss = 0.00606059\n",
      "Training Observation #2330: Loss = 0.00112038\n",
      "Training Observation #2340: Loss = 0.0244927\n",
      "Training Observation #2350: Loss = 0.000579654\n",
      "Training Observation #2360: Loss = 0.0146198\n",
      "Training Observation #2370: Loss = 6.10021\n",
      "Training Observation #2380: Loss = 5.19765\n",
      "Training Observation #2390: Loss = 8.31077e-05\n",
      "Training Observation #2400: Loss = 0.00816975\n",
      "Training Observation #2410: Loss = 5.6275\n",
      "Training Observation #2420: Loss = 3.53913\n",
      "Training Observation #2430: Loss = 0.00247835\n",
      "Training Observation #2440: Loss = 0.0947766\n",
      "Training Observation #2450: Loss = 0.0808199\n",
      "Training Observation #2460: Loss = 0.0882662\n",
      "Training Observation #2470: Loss = 0.000410597\n",
      "Training Observation #2480: Loss = 0.115604\n",
      "Training Observation #2490: Loss = 5.6198e-05\n",
      "Training Observation #2500: Loss = 0.0345716\n",
      "Training Observation #2510: Loss = 4.36845\n",
      "Training Observation #2520: Loss = 5.89852e-05\n",
      "Training Observation #2530: Loss = 0.00172704\n",
      "Training Observation #2540: Loss = 1.44175e-05\n",
      "Training Observation #2550: Loss = 2.18617e-05\n",
      "Training Observation #2560: Loss = 0.00204405\n",
      "Training Observation #2570: Loss = 0.00111129\n",
      "Training Observation #2580: Loss = 0.00103062\n",
      "Training Observation #2590: Loss = 0.115533\n",
      "Training Observation #2600: Loss = 4.99163e-05\n",
      "Training Observation #2610: Loss = 0.693793\n",
      "Training Observation #2620: Loss = 8.84494e-06\n",
      "Training Observation #2630: Loss = 0.0227645\n",
      "Training Observation #2640: Loss = 0.227634\n",
      "Training Observation #2650: Loss = 0.000923829\n",
      "Training Observation #2660: Loss = 5.56162e-05\n",
      "Training Observation #2670: Loss = 4.74446e-06\n",
      "Training Observation #2680: Loss = 0.00967041\n",
      "Training Observation #2690: Loss = 0.00896251\n",
      "Training Observation #2700: Loss = 4.36328\n",
      "Training Observation #2710: Loss = 3.51134\n",
      "Training Observation #2720: Loss = 0.0294646\n",
      "Training Observation #2730: Loss = 0.871449\n",
      "Training Observation #2740: Loss = 0.000130498\n",
      "Training Observation #2750: Loss = 0.0248613\n",
      "Training Observation #2760: Loss = 0.00207855\n",
      "Training Observation #2770: Loss = 0.0798783\n",
      "Training Observation #2780: Loss = 0.000501314\n",
      "Training Observation #2790: Loss = 0.000109057\n",
      "Training Observation #2800: Loss = 0.0192884\n",
      "Training Observation #2810: Loss = 0.766296\n",
      "Training Observation #2820: Loss = 0.000579472\n",
      "Training Observation #2830: Loss = 0.000302328\n",
      "Training Observation #2840: Loss = 0.0276042\n",
      "Training Observation #2850: Loss = 0.152217\n",
      "Training Observation #2860: Loss = 0.000134227\n",
      "Training Observation #2870: Loss = 4.2084e-05\n",
      "Training Observation #2880: Loss = 0.00179404\n",
      "Training Observation #2890: Loss = 0.000749622\n",
      "Training Observation #2900: Loss = 0.0855239\n",
      "Training Observation #2910: Loss = 0.0111908\n",
      "Training Observation #2920: Loss = 0.0014424\n",
      "Training Observation #2930: Loss = 0.000470257\n",
      "Training Observation #2940: Loss = 0.000426182\n",
      "Training Observation #2950: Loss = 0.0379027\n",
      "Training Observation #2960: Loss = 0.00526681\n",
      "Training Observation #2970: Loss = 0.00160116\n",
      "Training Observation #2980: Loss = 0.093755\n",
      "Training Observation #2990: Loss = 0.000163462\n",
      "Training Observation #3000: Loss = 0.00313902\n",
      "Training Observation #3010: Loss = 0.000265295\n",
      "Training Observation #3020: Loss = 0.0337102\n",
      "Training Observation #3030: Loss = 0.000564097\n",
      "Training Observation #3040: Loss = 6.03935\n",
      "Training Observation #3050: Loss = 0.000527586\n",
      "Training Observation #3060: Loss = 0.00251994\n",
      "Training Observation #3070: Loss = 0.000557492\n",
      "Training Observation #3080: Loss = 0.289238\n",
      "Training Observation #3090: Loss = 0.00692648\n",
      "Training Observation #3100: Loss = 3.1086\n",
      "Training Observation #3110: Loss = 0.0195545\n",
      "Training Observation #3120: Loss = 0.0100181\n",
      "Training Observation #3130: Loss = 0.000101591\n",
      "Training Observation #3140: Loss = 0.0015276\n",
      "Training Observation #3150: Loss = 8.80461e-05\n",
      "Training Observation #3160: Loss = 0.0108342\n",
      "Training Observation #3170: Loss = 0.809595\n",
      "Training Observation #3180: Loss = 0.00114038\n",
      "Training Observation #3190: Loss = 0.621461\n",
      "Training Observation #3200: Loss = 0.00308958\n",
      "Training Observation #3210: Loss = 0.131321\n",
      "Training Observation #3220: Loss = 0.000472852\n",
      "Training Observation #3230: Loss = 0.344525\n",
      "Training Observation #3240: Loss = 2.74791\n",
      "Training Observation #3250: Loss = 0.90349\n",
      "Training Observation #3260: Loss = 6.90703\n",
      "Training Observation #3270: Loss = 0.177276\n",
      "Training Observation #3280: Loss = 1.49922\n",
      "Training Observation #3290: Loss = 5.58925\n",
      "Training Observation #3300: Loss = 0.0699902\n",
      "Training Observation #3310: Loss = 0.000889758\n",
      "Training Observation #3320: Loss = 0.00829472\n",
      "Training Observation #3330: Loss = 0.00763735\n",
      "Training Observation #3340: Loss = 0.011612\n",
      "Training Observation #3350: Loss = 0.000146532\n",
      "Training Observation #3360: Loss = 1.45305e-05\n",
      "Training Observation #3370: Loss = 6.56219e-05\n",
      "Training Observation #3380: Loss = 0.363196\n",
      "Training Observation #3390: Loss = 7.67472\n",
      "Training Observation #3400: Loss = 0.000429825\n",
      "Training Observation #3410: Loss = 0.000815514\n",
      "Training Observation #3420: Loss = 0.00773349\n",
      "Training Observation #3430: Loss = 0.000101673\n",
      "Training Observation #3440: Loss = 0.10069\n",
      "Training Observation #3450: Loss = 0.0101404\n",
      "Training Observation #3460: Loss = 0.000275072\n",
      "Training Observation #3470: Loss = 0.000133639\n",
      "Training Observation #3480: Loss = 0.0457164\n",
      "Training Observation #3490: Loss = 0.000550691\n",
      "Training Observation #3500: Loss = 0.173633\n",
      "Training Observation #3510: Loss = 0.000399094\n",
      "Training Observation #3520: Loss = 0.0042528\n",
      "Training Observation #3530: Loss = 0.0157592\n",
      "Training Observation #3540: Loss = 7.86728e-05\n",
      "Training Observation #3550: Loss = 3.72399e-05\n",
      "Training Observation #3560: Loss = 0.879341\n",
      "Training Observation #3570: Loss = 0.0106209\n",
      "Training Observation #3580: Loss = 8.60491\n",
      "Training Observation #3590: Loss = 6.31001e-05\n",
      "Training Observation #3600: Loss = 1.62081\n",
      "Training Observation #3610: Loss = 4.70862e-05\n",
      "Training Observation #3620: Loss = 0.00964314\n",
      "Training Observation #3630: Loss = 0.000746633\n",
      "Training Observation #3640: Loss = 3.45162e-05\n",
      "Training Observation #3650: Loss = 0.00055527\n"
     ]
    },
    {
     "name": "stdout",
     "output_type": "stream",
     "text": [
      "Training Observation #3660: Loss = 0.00916088\n",
      "Training Observation #3670: Loss = 0.00274183\n",
      "Training Observation #3680: Loss = 0.00034307\n",
      "Training Observation #3690: Loss = 1.68132e-05\n",
      "Training Observation #3700: Loss = 0.000700482\n",
      "Training Observation #3710: Loss = 8.90829e-05\n",
      "Training Observation #3720: Loss = 0.00787085\n",
      "Training Observation #3730: Loss = 0.218233\n",
      "Training Observation #3740: Loss = 0.0055334\n",
      "Training Observation #3750: Loss = 0.275006\n",
      "Training Observation #3760: Loss = 0.0740217\n",
      "Training Observation #3770: Loss = 0.104154\n",
      "Training Observation #3780: Loss = 0.00277074\n",
      "Training Observation #3790: Loss = 0.0101942\n",
      "Training Observation #3800: Loss = 0.0459137\n",
      "Training Observation #3810: Loss = 7.13746\n",
      "Training Observation #3820: Loss = 0.00134437\n",
      "Training Observation #3830: Loss = 0.414546\n",
      "Training Observation #3840: Loss = 0.000343003\n",
      "Training Observation #3850: Loss = 4.02975\n",
      "Training Observation #3860: Loss = 0.00022191\n",
      "Training Observation #3870: Loss = 0.000850995\n",
      "Training Observation #3880: Loss = 6.39401e-06\n",
      "Training Observation #3890: Loss = 0.00209133\n",
      "Training Observation #3900: Loss = 0.000163722\n",
      "Training Observation #3910: Loss = 7.85258e-05\n",
      "Training Observation #3920: Loss = 0.474625\n",
      "Training Observation #3930: Loss = 0.0875995\n",
      "Training Observation #3940: Loss = 0.000100511\n",
      "Training Observation #3950: Loss = 0.000279371\n",
      "Training Observation #3960: Loss = 2.14371\n",
      "Training Observation #3970: Loss = 6.98095\n",
      "Training Observation #3980: Loss = 3.64413\n",
      "Training Observation #3990: Loss = 0.0540305\n",
      "Training Observation #4000: Loss = 0.00685861\n",
      "Training Observation #4010: Loss = 0.000378066\n",
      "Training Observation #4020: Loss = 0.152128\n",
      "Training Observation #4030: Loss = 4.13474e-05\n",
      "Training Observation #4040: Loss = 4.0517e-05\n",
      "Training Observation #4050: Loss = 0.00225565\n",
      "Training Observation #4060: Loss = 0.433463\n",
      "Training Observation #4070: Loss = 0.0183065\n",
      "Training Observation #4080: Loss = 3.75679e-05\n",
      "Training Observation #4090: Loss = 0.505041\n",
      "Training Observation #4100: Loss = 0.459378\n",
      "Training Observation #4110: Loss = 3.50146\n",
      "Training Observation #4120: Loss = 9.5998\n",
      "Training Observation #4130: Loss = 1.76761e-06\n",
      "Training Observation #4140: Loss = 0.0112575\n",
      "Training Observation #4150: Loss = 4.0567\n",
      "Training Observation #4160: Loss = 2.73119e-05\n",
      "Training Observation #4170: Loss = 0.0719471\n",
      "Training Observation #4180: Loss = 0.0234928\n",
      "Training Observation #4190: Loss = 0.00991089\n",
      "Training Observation #4200: Loss = 0.00241637\n",
      "Training Observation #4210: Loss = 0.0865643\n",
      "Training Observation #4220: Loss = 0.00439771\n",
      "Training Observation #4230: Loss = 0.0135674\n",
      "Training Observation #4240: Loss = 0.00473387\n",
      "Training Observation #4250: Loss = 0.0275919\n",
      "Training Observation #4260: Loss = 0.104189\n",
      "Training Observation #4270: Loss = 0.00577478\n",
      "Training Observation #4280: Loss = 0.00238012\n",
      "Training Observation #4290: Loss = 0.454726\n",
      "Training Observation #4300: Loss = 0.00517953\n",
      "Training Observation #4310: Loss = 0.842227\n",
      "Training Observation #4320: Loss = 0.016915\n",
      "Training Observation #4330: Loss = 0.0125222\n",
      "Training Observation #4340: Loss = 0.0648489\n",
      "Training Observation #4350: Loss = 0.00063342\n",
      "Training Observation #4360: Loss = 0.00416467\n",
      "Training Observation #4370: Loss = 0.000362438\n",
      "Training Observation #4380: Loss = 7.37481\n",
      "Training Observation #4390: Loss = 0.0298738\n",
      "Training Observation #4400: Loss = 0.00242047\n",
      "Training Observation #4410: Loss = 0.473032\n",
      "Training Observation #4420: Loss = 0.020237\n",
      "Training Observation #4430: Loss = 0.0395576\n",
      "Training Observation #4440: Loss = 0.00943313\n",
      "Training Observation #4450: Loss = 1.46907\n",
      "Getting Test Set Accuracy For 1115 Sentences.\n"
     ]
    }
   ],
   "source": [
    "print('Starting Training Over {} Sentences.'.format(len(texts_train)))\n",
    "loss_vec = []\n",
    "train_acc_all = []\n",
    "train_acc_avg = []\n",
    "# \n",
    "for ix, t in enumerate(vocab_processor.fit_transform(texts_train)):\n",
    "    #正解データを定義\n",
    "    y_data = [[target_train[ix]]]\n",
    "    #sess.runで実行となる.\n",
    "    #run()の引数が実行されるノードである.\n",
    "    #train_stepはlossを引数にもち,lossはmodel_putputとy_targetsを...\n",
    "    #というふうにモデルのすべてが実行されるような形になる.\n",
    "    #feed_dictはからのplaceholderで定義した入れ物に入れる値\n",
    "    #x_dataが入力データでy_dataが正解データ\n",
    "    # _, temp_loss=sess.run(train_step,loss,feed_dict={x_data: t, y_target: y_data})としても良い....はず\n",
    "    \n",
    "    sess.run(train_step, feed_dict={x_data: t, y_target: y_data})\n",
    "    temp_loss = sess.run(loss, feed_dict={x_data: t, y_target: y_data})\n",
    "    #loss_vecにlossを記録しておく.\n",
    "    #これは記録しているだけなのであしからず\n",
    "    #tensorboardというものを使うと便利です.(今回は紹介せず)\n",
    "    loss_vec.append(temp_loss)\n",
    "    #10回ごとに何回学習させたかをprint\n",
    "    if (ix+1)%10==0:\n",
    "        print('Training Observation #' + str(ix+1) + ': Loss = ' + str(temp_loss))\n",
    "    #predictionを実行して,これも記録用\n",
    "    [[temp_pred]] = sess.run(prediction, feed_dict={x_data:t, y_target:y_data})\n",
    "    \n",
    "    train_acc_temp = target_train[ix]==np.round(temp_pred)\n",
    "    train_acc_all.append(train_acc_temp)\n",
    "    if len(train_acc_all) >= 50:\n",
    "        train_acc_avg.append(np.mean(train_acc_all[-50:]))\n",
    "\n",
    "print('Getting Test Set Accuracy For {} Sentences.'.format(len(texts_test)))\n",
    "test_acc_all = []"
   ]
  },
  {
   "cell_type": "markdown",
   "metadata": {},
   "source": [
    "<h3>学習させたモデルでテスト</h3>"
   ]
  },
  {
   "cell_type": "code",
   "execution_count": 25,
   "metadata": {},
   "outputs": [
    {
     "name": "stdout",
     "output_type": "stream",
     "text": [
      "Test Observation #50\n",
      "Test Observation #100\n",
      "Test Observation #150\n",
      "Test Observation #200\n",
      "Test Observation #250\n",
      "Test Observation #300\n",
      "Test Observation #350\n",
      "Test Observation #400\n",
      "Test Observation #450\n",
      "Test Observation #500\n",
      "Test Observation #550\n",
      "Test Observation #600\n",
      "Test Observation #650\n",
      "Test Observation #700\n",
      "Test Observation #750\n",
      "Test Observation #800\n",
      "Test Observation #850\n",
      "Test Observation #900\n",
      "Test Observation #950\n",
      "Test Observation #1000\n",
      "Test Observation #1050\n",
      "Test Observation #1100\n",
      "\n",
      "Overall Test Accuracy: 0.7784753363228699\n"
     ]
    },
    {
     "data": {
      "image/png": "[encoded data removed]",
      "text/plain": [
       "<matplotlib.figure.Figure at 0x7f05041e2978>"
      ]
     },
     "metadata": {},
     "output_type": "display_data"
    }
   ],
   "source": [
    "\n",
    "for ix, t in enumerate(vocab_processor.fit_transform(texts_test)):\n",
    "    y_data = [[target_test[ix]]]\n",
    "    \n",
    "    if (ix+1)%50==0:\n",
    "        print('Test Observation #' + str(ix+1))\n",
    "        \n",
    "    [[temp_pred]] = sess.run(prediction, feed_dict={x_data:t, y_target:y_data})\n",
    "    \n",
    "    test_acc_temp = target_test[ix]==np.round(temp_pred)\n",
    "    test_acc_all.append(test_acc_temp)\n",
    "\n",
    "print('\\nOverall Test Accuracy: {}'.format(np.mean(test_acc_all)))\n",
    "\n",
    "plt.plot(range(len(train_acc_avg)), train_acc_avg, 'k-', label='Train Accuracy')\n",
    "plt.title('Avg Training Acc Over Past 50 Generations')\n",
    "plt.xlabel('Generation')\n",
    "plt.ylabel('Training Accuracy')\n",
    "plt.show()"
   ]
  },
  {
   "cell_type": "code",
   "execution_count": null,
   "metadata": {},
   "outputs": [],
   "source": []
  }
 ],
 "metadata": {
  "kernelspec": {
   "display_name": "Python 3",
   "language": "python",
   "name": "python3"
  },
  "language_info": {
   "codemirror_mode": {
    "name": "ipython",
    "version": 3
   },
   "file_extension": ".py",
   "mimetype": "text/x-python",
   "name": "python",
   "nbconvert_exporter": "python",
   "pygments_lexer": "ipython3",
   "version": "3.5.3"
  }
 },
 "nbformat": 4,
 "nbformat_minor": 2
}
