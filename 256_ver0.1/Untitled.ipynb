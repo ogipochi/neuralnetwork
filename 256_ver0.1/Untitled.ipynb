{
 "cells": [
  {
   "cell_type": "code",
   "execution_count": 1,
   "metadata": {},
   "outputs": [],
   "source": [
    "from config import*"
   ]
  },
  {
   "cell_type": "code",
   "execution_count": 2,
   "metadata": {},
   "outputs": [],
   "source": [
    "dataset = 'train.tfrecords'\n",
    "batch_size = BATCH_SIZE\n",
    "num_process_threads = None"
   ]
  },
  {
   "cell_type": "code",
   "execution_count": 3,
   "metadata": {
    "collapsed": true
   },
   "outputs": [],
   "source": [
    "def parse_example_proto(example_serialized):\n",
    "    #入力:ファイル名\n",
    "    #出力:画像,label,image_name\n",
    "   \n",
    "    feature_map = {\n",
    "      'image_raw': tf.FixedLenFeature([], dtype=tf.string,\n",
    "                                          default_value=''),\n",
    "      'image_name': tf.FixedLenFeature([], dtype=tf.string,\n",
    "                                          default_value=''),\n",
    "      'label': tf.FixedLenFeature([1], dtype=tf.int64,\n",
    "                                              default_value=-1),\n",
    "    }\n",
    "    sparse_float32 = tf.VarLenFeature(dtype=tf.float32)\n",
    "    features = tf.parse_single_example(example_serialized, feature_map)\n",
    "    label = tf.cast(features['label'], dtype=tf.int32)\n",
    "    image = tf.decode_raw(features['image_raw'], tf.uint8)\n",
    "    image_name = features['image_name']\n",
    "    image.set_shape([IMAGE_HEIGHT * IMAGE_WIDTH * CHANNEL])\n",
    "    image = tf.cast(image, tf.float32) * (1. / 255) - 0.5\n",
    "    image = tf.reshape(image, [IMAGE_HEIGHT, IMAGE_WIDTH, CHANNEL])\n",
    "    return image, label,image_name\n"
   ]
  },
  {
   "cell_type": "code",
   "execution_count": 4,
   "metadata": {},
   "outputs": [],
   "source": [
    "def input_pipeline(filenames, batch_size, read_threads, num_epochs=None):\n",
    "    #filenamequeueの生成\n",
    "    filename_queue = tf.train.string_input_producer([filenames], num_epochs=num_epochs, shuffle=True)\n",
    "    reader = tf.TFRecordReader()\n",
    "    _, serialized_example = reader.read(filename_queue)\n",
    "    example_list = [parse_example_proto(serialized_example)for _ in range(read_threads)]\n",
    "    min_after_dequeue = 10000\n",
    "    capacity = min_after_dequeue + 3 * batch_size\n",
    "    example_batch = tf.train.shuffle_batch_join(\n",
    "        example_list, batch_size=batch_size, capacity=capacity,\n",
    "        min_after_dequeue=min_after_dequeue)\n",
    "    return example_batch"
   ]
  },
  {
   "cell_type": "code",
   "execution_count": 5,
   "metadata": {},
   "outputs": [
    {
     "name": "stdout",
     "output_type": "stream",
     "text": [
      "[<tf.Tensor 'shuffle_batch_join:0' shape=(30, 256, 455, 3) dtype=float32>, <tf.Tensor 'shuffle_batch_join:1' shape=(30, 1) dtype=int32>, <tf.Tensor 'shuffle_batch_join:2' shape=(30,) dtype=string>]\n"
     ]
    }
   ],
   "source": [
    "print(input_pipeline(filenames='train.tfrecords',batch_size=BATCH_SIZE,read_threads = 3,num_epochs=10))"
   ]
  },
  {
   "cell_type": "code",
   "execution_count": 6,
   "metadata": {},
   "outputs": [],
   "source": [
    "labels = input_pipeline(filenames='train.tfrecords',batch_size=BATCH_SIZE,read_threads = 3,num_epochs=10)"
   ]
  },
  {
   "cell_type": "code",
   "execution_count": 7,
   "metadata": {},
   "outputs": [
    {
     "name": "stdout",
     "output_type": "stream",
     "text": [
      "Tensor(\"shuffle_batch_join_1:2\", shape=(30,), dtype=string)\n"
     ]
    }
   ],
   "source": [
    "print(labels[2])"
   ]
  },
  {
   "cell_type": "code",
   "execution_count": 9,
   "metadata": {},
   "outputs": [
    {
     "name": "stdout",
     "output_type": "stream",
     "text": [
      "Tensor(\"shuffle_batch_join_1:1\", shape=(30, 1), dtype=int32)\n"
     ]
    }
   ],
   "source": [
    "print(labels[1])"
   ]
  },
  {
   "cell_type": "code",
   "execution_count": null,
   "metadata": {},
   "outputs": [],
   "source": [
    "sess = tf.Session()\n",
    "init = tf.initialize_all_variables()\n",
    "sess.run(init)\n",
    "lb = sess.run(labels)"
   ]
  },
  {
   "cell_type": "code",
   "execution_count": null,
   "metadata": {
    "collapsed": true
   },
   "outputs": [],
   "source": []
  }
 ],
 "metadata": {
  "kernelspec": {
   "display_name": "Python 3",
   "language": "python",
   "name": "python3"
  },
  "language_info": {
   "codemirror_mode": {
    "name": "ipython",
    "version": 3
   },
   "file_extension": ".py",
   "mimetype": "text/x-python",
   "name": "python",
   "nbconvert_exporter": "python",
   "pygments_lexer": "ipython3",
   "version": "3.5.2"
  }
 },
 "nbformat": 4,
 "nbformat_minor": 2
}
