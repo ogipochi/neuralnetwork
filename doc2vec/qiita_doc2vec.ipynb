{
 "cells": [
  {
   "cell_type": "markdown",
   "metadata": {},
   "source": [
    "<h1>パート１</h1>"
   ]
  },
  {
   "cell_type": "code",
   "execution_count": 1,
   "metadata": {},
   "outputs": [],
   "source": [
    "#データの入れ物を空のリストで定義\n",
    "texts_data = []\n",
    "labels_data = []\n",
    "\n",
    "#リストにポジティプレビューのデータを追加\n",
    "with open('dataset/rt-polarity.pos','r',encoding='latin-1') as f:\n",
    "    #一行ごとにリストに追加\n",
    "    for line in f:\n",
    "        texts_data.append(line)\n",
    "        labels_data.append(1)\n",
    "#リストにネガティブレビューのデータを追加\n",
    "with open('dataset/rt-polarity.neg','r',encoding='latin-1') as f:\n",
    "    #一行ごとにリストに追加\n",
    "    for line in f:\n",
    "        texts_data.append(line)\n",
    "        labels_data.append(0)"
   ]
  },
  {
   "cell_type": "code",
   "execution_count": 2,
   "metadata": {},
   "outputs": [
    {
     "name": "stdout",
     "output_type": "stream",
     "text": [
      "[nltk_data] Downloading package stopwords to\n",
      "[nltk_data]     /home/ogihara/nltk_data...\n",
      "[nltk_data]   Package stopwords is already up-to-date!\n"
     ]
    }
   ],
   "source": [
    "import string\n",
    "import nltk\n",
    "nltk.download('stopwords')\n",
    "from nltk.corpus import stopwords\n",
    "\n",
    "#小文字に統一\n",
    "texts_data = [x.lower() for x in texts_data]\n",
    "#記号の削除\n",
    "texts_data = [''.join(c for c in x if c not in string.punctuation ) for x in texts_data]\n",
    "#数字の削除\n",
    "texts_data = [''.join(c for c in x if c not in '0123456789')for x in texts_data]\n",
    "#ストップワードの削除\n",
    "texts_data = [' '.join([word for word in x.split() if word not in (stopwords.words('english'))]) for x in texts_data]\n",
    "#ホワイトスペースの統一\n",
    "texts_data = [' '.join(x.split()) for x in texts_data]"
   ]
  },
  {
   "cell_type": "code",
   "execution_count": 3,
   "metadata": {},
   "outputs": [
    {
     "name": "stdout",
     "output_type": "stream",
     "text": [
      "10662\n",
      "10662\n"
     ]
    }
   ],
   "source": [
    "print(len(labels_data))\n",
    "print(len(texts_data))"
   ]
  },
  {
   "cell_type": "code",
   "execution_count": 4,
   "metadata": {},
   "outputs": [],
   "source": [
    "window_size = 3\n",
    "#テキストがwindow_size以下の文章はラベルもテキストも削除\n",
    "labels_data = [labels_data[ix] for ix, x in enumerate(texts_data) if len(x.split()) > window_size]\n",
    "texts_data = [x for x in texts_data if len(x.split()) > window_size]\n",
    "#ラベルデータとテキストデータの数がキチンと一致するか確認\n",
    "assert(len(labels_data)==len(texts_data))"
   ]
  },
  {
   "cell_type": "code",
   "execution_count": 5,
   "metadata": {},
   "outputs": [],
   "source": [
    "import collections\n",
    "vocabulary_size = 7500\n",
    "#ジェネレータでテキストデータセットから文章を取り出し\n",
    "#splitで単語ごとに分ける\n",
    "split_sentences = [s.split() for s in texts_data]\n",
    "#文章ごとの単語辞書になっているものを,データセット全体の単語辞書にする\n",
    "words = [x for sublist in split_sentences for x in sublist]\n",
    "#count:['単語',単語出現頻度]のリストを初期化\n",
    "#一定数以下の単語はRAREになる\n",
    "count = [['RARE', -1]]\n",
    "#collectionsで単語を数え,('単語',単語の出現回数)をvocabulary_size-1までcountに追加\n",
    "count.extend(collections.Counter(words).most_common(vocabulary_size-1))"
   ]
  },
  {
   "cell_type": "code",
   "execution_count": 6,
   "metadata": {},
   "outputs": [],
   "source": [
    "#countは現在出現頻度順に並んでいるのでこれを単語辞書して使う\n",
    "word_dictionary = {}\n",
    "for word,word_count in count:\n",
    "    word_dictionary[word] = len(word_dictionary)\n",
    "word_dictionary_reverse = dict(zip(word_dictionary.values(), word_dictionary.keys())) "
   ]
  },
  {
   "cell_type": "code",
   "execution_count": 7,
   "metadata": {},
   "outputs": [
    {
     "ename": "NameError",
     "evalue": "name 'word_dict' is not defined",
     "output_type": "error",
     "traceback": [
      "\u001b[0;31m---------------------------------------------------------------------------\u001b[0m",
      "\u001b[0;31mNameError\u001b[0m                                 Traceback (most recent call last)",
      "\u001b[0;32m<ipython-input-7-70dfe69599cf>\u001b[0m in \u001b[0;36m<module>\u001b[0;34m()\u001b[0m\n\u001b[1;32m      5\u001b[0m         \u001b[0;31m#をベクトルの値として渡す.そうでなければ,0を渡す\u001b[0m\u001b[0;34m\u001b[0m\u001b[0;34m\u001b[0m\u001b[0m\n\u001b[1;32m      6\u001b[0m         \u001b[0;32mfor\u001b[0m \u001b[0mword\u001b[0m \u001b[0;32min\u001b[0m \u001b[0msentence\u001b[0m\u001b[0;34m.\u001b[0m\u001b[0msplit\u001b[0m\u001b[0;34m(\u001b[0m\u001b[0;34m)\u001b[0m\u001b[0;34m:\u001b[0m\u001b[0;34m\u001b[0m\u001b[0m\n\u001b[0;32m----> 7\u001b[0;31m             \u001b[0;32mif\u001b[0m \u001b[0mword\u001b[0m \u001b[0;32min\u001b[0m \u001b[0mword_dict\u001b[0m\u001b[0;34m:\u001b[0m\u001b[0;34m\u001b[0m\u001b[0m\n\u001b[0m\u001b[1;32m      8\u001b[0m                 \u001b[0mword_ix\u001b[0m \u001b[0;34m=\u001b[0m \u001b[0mword_dict\u001b[0m\u001b[0;34m[\u001b[0m\u001b[0mword\u001b[0m\u001b[0;34m]\u001b[0m\u001b[0;34m\u001b[0m\u001b[0m\n\u001b[1;32m      9\u001b[0m             \u001b[0;32melse\u001b[0m\u001b[0;34m:\u001b[0m\u001b[0;34m\u001b[0m\u001b[0m\n",
      "\u001b[0;31mNameError\u001b[0m: name 'word_dict' is not defined"
     ]
    }
   ],
   "source": [
    "text_vector = []\n",
    "for sentence in texts_data:\n",
    "        sentence_data = []\n",
    "        #テキストデータを単語ごとに分け単語が辞書にあればそのvalu(出現頻度ランキング)\n",
    "        #をベクトルの値として渡す.そうでなければ,0を渡す\n",
    "        for word in sentence.split():\n",
    "            if word in word_dict:\n",
    "                word_ix = word_dict[word]\n",
    "            else:\n",
    "                word_ix = 0\n",
    "            sentence_data.append(word_ix)\n",
    "        text_vector.append(sentence_data)"
   ]
  },
  {
   "cell_type": "markdown",
   "metadata": {},
   "source": [
    "<h1>パート2</h1>"
   ]
  },
  {
   "cell_type": "code",
   "execution_count": null,
   "metadata": {},
   "outputs": [],
   "source": []
  }
 ],
 "metadata": {
  "kernelspec": {
   "display_name": "Python 3",
   "language": "python",
   "name": "python3"
  },
  "language_info": {
   "codemirror_mode": {
    "name": "ipython",
    "version": 3
   },
   "file_extension": ".py",
   "mimetype": "text/x-python",
   "name": "python",
   "nbconvert_exporter": "python",
   "pygments_lexer": "ipython3",
   "version": "3.6.3"
  }
 },
 "nbformat": 4,
 "nbformat_minor": 2
}
